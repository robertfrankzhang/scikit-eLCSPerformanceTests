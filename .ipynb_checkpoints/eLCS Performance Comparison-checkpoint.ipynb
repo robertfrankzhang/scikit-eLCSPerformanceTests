{
 "cells": [
  {
   "cell_type": "markdown",
   "metadata": {},
   "source": [
    "# Comparing the Performance of scikit-eLCS and the Original eLCS Algorithm\n",
    "\n",
    "Author: Robert Zhang - Univeresity of Pennsylvania, B.S.E Computer Science, B.S.E. Economics (SEAS '22, WH '22)\n",
    "\n",
    "Advisor: Ryan Urbanowicz, PhD - University of Pennsylvania, Department of Biostatics, Epidemiology, and Informatics & Institue for Biomedical Informatics (IBI)\n",
    "\n",
    "Date: 04/05/2020\n",
    "\n",
    "Requirements: (Python 3)\n",
    "<ul>\n",
    "    <li>scikit-eLCS</li>\n",
    "    <li>pandas</li>\n",
    "    <li>numpy</li>\n",
    "    <li>scipy</li>\n",
    "    <li>scikit-learn</li>\n",
    "</ul>\n",
    "\n",
    "## Introduction\n",
    "This notebook presents a comparison between the performance of the original eLCS Algorithm, as presented in the 2017 textbook \"Introduction to Learning Classifier Systems\" by Ryan Urbanowicz and Will Browne, and the new scikit-eLCS Python package.\n",
    "\n",
    "The scikit-eLCS package is a sklearn compatible Python implementation of the original eLCS Algorithm. It was designed to perform equally well in terms of training/testing accuracy and training time, while being significantly more user friendly, and including an array of additional real time & post-training analysis tools. This notebook will demonstrate these capabilities in detail.\n",
    "\n",
    "The scikit-eLCS source code and a complete walkthrough of its usage can be found at <a href=https://github.com/UrbsLab/scikit-eLCS>this Github Repository</a>. The package can be installed via **pip3 install scikit-eLCS**.\n",
    "\n",
    "This notebook uses a slightly modified version of the original eLCS algorithm to improve useability, clarity, and to make it perform (runtime wise) more similar to the scikit-eLCS package, which would run slightly faster otherwise due to its lack of mandatory evaluation, printing, and exporting during training. Thus, this notebook is only comparing the runtime of the core algorithm implementations, rather than evaluating the runtimes of the two packages as a whole.\n",
    "<ul>\n",
    "    <li>Removed from original eLCS all print statements</li>\n",
    "    <li>Removed from original eLCS all obligatory evaluation procedures during training</li>\n",
    "    <li>Removed from original eLCS all export functionality during training</li>\n",
    "    <li>Made training accuracy easier to access for original eLCS</li>\n",
    "    <li>Removed the need for a config file (used param passing instead)</li>\n",
    "    <li>Removed the need for both a test and train file, and made all files csv's instead of txt's</li>\n",
    "</ul>\n",
    "\n",
    "## Notebook Organization\n",
    "**Part 0: Setting Up Some Helper Methods**\n",
    "\n",
    "**Part 1: Comparing Training Accuracy and Runtime**\n",
    "<ul>\n",
    "    <li> 6-bit Multiplexer Problem </li>\n",
    "    <li> 11-bit Multiplexer Problem </li>\n",
    "    <li> 20-bit Multiplexer Problem </li>\n",
    "</ul>\n",
    "\n",
    "**Part 2: Comparing Testing Accuracy**\n",
    "<ul>\n",
    "    <li> 6-bit Multiplexer Problem </li>\n",
    "    <li> 11-bit Multiplexer Problem </li>\n",
    "    <li> 20-bit Multiplexer Problem </li>\n",
    "</ul>\n",
    "\n",
    "**Part 3: Quick Demo of Additional Analysis Tools Provided by scikit-eLCS**\n",
    "<ul>\n",
    "    <li> Iteration Tracking Tool </li>\n",
    "    <li> Rule Population Tool </li>\n",
    "    <li> Population Statistics Tools </li>\n",
    "</ul>\n",
    "\n",
    "## Part 0: Setting Up Helper Methods"
   ]
  },
  {
   "cell_type": "code",
   "execution_count": 1,
   "metadata": {},
   "outputs": [],
   "source": [
    "from eLCS_Timer import Timer\n",
    "from eLCS_ParamParser import ParamParser\n",
    "from eLCS_Offline_Environment import Offline_Environment\n",
    "from eLCS_Algorithm import eLCS\n",
    "from eLCS_Constants import *\n",
    "import numpy as np\n",
    "import time\n",
    "\n",
    "def runOriginaleLCS(dataFile,labelPhenotype,learningIterations,randomSeed,cv=False):\n",
    "    #Run the e-LCS algorithm.\n",
    "    if cv == False:\n",
    "        ParamParser(dataFile,cv=cv,labelPhenotype=labelPhenotype,learningIterations=learningIterations,randomSeed=randomSeed)\n",
    "        timer = Timer() \n",
    "        cons.referenceTimer(timer)\n",
    "        env = Offline_Environment()\n",
    "        cons.referenceEnv(env)\n",
    "        cons.parseIterations()\n",
    "        e = eLCS()\n",
    "        return np.array([e.trainEval[0],cons.timer.globalDeletion,cons.timer.globalEvaluation,cons.timer.globalMatching,cons.timer.globalSelection,cons.timer.globalSubsumption,cons.timer.globalTime])\n",
    "    else:\n",
    "        l = []\n",
    "        ParamParser(dataFile,cv=cv,labelPhenotype=labelPhenotype,learningIterations=learningIterations,randomSeed=randomSeed)\n",
    "        for i in range(cv):\n",
    "            cons.setCV()\n",
    "            timer = Timer() \n",
    "            cons.referenceTimer(timer)\n",
    "            env = Offline_Environment()\n",
    "            cons.referenceEnv(env)\n",
    "            cons.parseIterations()\n",
    "            e = eLCS()\n",
    "            l.append(e.testEval[0])\n",
    "        return np.mean(np.array(l))\n",
    "\n",
    "import skeLCS\n",
    "import pandas as pd\n",
    "from sklearn.model_selection import cross_val_score\n",
    "\n",
    "def runScikiteLCS(dataFile,classLabel,learningIterations,randomSeed,cv=False):\n",
    "    data = pd.read_csv(dataFile)\n",
    "    dataFeatures = data.drop(classLabel,axis=1).values\n",
    "    dataPhenotypes = data[classLabel].values\n",
    "    model = skeLCS.eLCS(learningIterations = learningIterations,randomSeed = randomSeed)\n",
    "\n",
    "    if cv == False:\n",
    "        model.fit(dataFeatures,dataPhenotypes)\n",
    "        score = model.score(dataFeatures,dataPhenotypes)\n",
    "        return np.array([score,model.timer.globalDeletion,model.timer.globalEvaluation,model.timer.globalMatching,model.timer.globalSelection,model.timer.globalSubsumption,model.timer.globalTime])\n",
    "    else:\n",
    "        formatted = np.insert(dataFeatures,dataFeatures.shape[1],dataPhenotypes,1)\n",
    "        np.random.shuffle(formatted)\n",
    "        dataFeatures = np.delete(formatted,-1,axis=1)\n",
    "        dataPhenotypes = formatted[:,-1]\n",
    "        return np.mean(cross_val_score(model,dataFeatures,dataPhenotypes,cv=cv))\n",
    "\n",
    "randomSeeds = [0,1,2,3,4]"
   ]
  },
  {
   "cell_type": "markdown",
   "metadata": {},
   "source": [
    "## Part 1: Comparing Training Accuracy and Runtime\n",
    "We will use the n-bit Multiplexer Problem to test the training accuracy and runtime of the two eLCS implementations. The Multiplexer Problem is a benchmark LCS problem, due to its highly epistatic and heterogeneous nature.\n",
    "<br>\n",
    "<br>\n",
    "<img src=\"MP.jpg\">\n",
    "\n",
    "We will use the same hyperparameters for both eLCS implementations, and also use the same random seed, to ensure the exact replicability (without a set random seed however, the results of analysis will still yield highly similar conclusions).\n",
    "\n",
    "### 6-bit Multiplexer Problem with Original eLCS"
   ]
  },
  {
   "cell_type": "code",
   "execution_count": 2,
   "metadata": {},
   "outputs": [],
   "source": [
    "# avgOriginal = np.array([0,0,0,0,0,0,0])\n",
    "# for seed in randomSeeds:\n",
    "#     avgOriginal = np.add(avgOriginal,runOriginaleLCS('Datasets/Multiplexer6.csv','class','5000',seed))\n",
    "# avgOriginal /= 5\n",
    "\n",
    "# print(\"Average Training Accuracy: \"+str(avgOriginal[0]))\n",
    "# print(\"Average Deletion Time: \"+str(avgOriginal[1]))\n",
    "# print(\"Average Evaluation Time: \"+str(avgOriginal[2]))\n",
    "# print(\"Average Matching Time: \"+str(avgOriginal[3]))\n",
    "# print(\"Average Selection Time: \"+str(avgOriginal[4]))\n",
    "# print(\"Average Subsumption Time: \"+str(avgOriginal[5]))\n",
    "# print(\"Average Total Training Time: \"+str(avgOriginal[6]))"
   ]
  },
  {
   "cell_type": "markdown",
   "metadata": {},
   "source": [
    "### 6-bit Multiplexeer Problem with scikit-eLCS"
   ]
  },
  {
   "cell_type": "code",
   "execution_count": 3,
   "metadata": {},
   "outputs": [],
   "source": [
    "# avgScikit = np.array([0,0,0,0,0,0,0])\n",
    "# for seed in randomSeeds:\n",
    "#     avgScikit = np.add(avgScikit,runScikiteLCS('Datasets/Multiplexer6.csv','class',5000,seed))\n",
    "# avgScikit /= 5\n",
    "\n",
    "# print(\"Average Training Accuracy: \"+str(avgScikit[0]))\n",
    "# print(\"Average Deletion Time: \"+str(avgScikit[1]))\n",
    "# print(\"Average Evaluation Time: \"+str(avgScikit[2]))\n",
    "# print(\"Average Matching Time: \"+str(avgScikit[3]))\n",
    "# print(\"Average Selection Time: \"+str(avgScikit[4]))\n",
    "# print(\"Average Subsumption Time: \"+str(avgScikit[5]))\n",
    "# print(\"Average Total Training Time: \"+str(avgScikit[6]))"
   ]
  },
  {
   "cell_type": "markdown",
   "metadata": {},
   "source": [
    "### 11-bit Multiplexer Problem with Original eLCS"
   ]
  },
  {
   "cell_type": "code",
   "execution_count": 4,
   "metadata": {},
   "outputs": [],
   "source": [
    "# avgOriginal = np.array([0,0,0,0,0,0,0])\n",
    "# for seed in randomSeeds:\n",
    "#     avgOriginal = np.add(avgOriginal,runOriginaleLCS('Datasets/Multiplexer11.csv','class','5000',seed))\n",
    "# avgOriginal /= 5\n",
    "\n",
    "# print(\"Average Training Accuracy: \"+str(avgOriginal[0]))\n",
    "# print(\"Average Deletion Time: \"+str(avgOriginal[1]))\n",
    "# print(\"Average Evaluation Time: \"+str(avgOriginal[2]))\n",
    "# print(\"Average Matching Time: \"+str(avgOriginal[3]))\n",
    "# print(\"Average Selection Time: \"+str(avgOriginal[4]))\n",
    "# print(\"Average Subsumption Time: \"+str(avgOriginal[5]))\n",
    "# print(\"Average Total Training Time: \"+str(avgOriginal[6]))"
   ]
  },
  {
   "cell_type": "markdown",
   "metadata": {},
   "source": [
    "### 11-bit Multiplexer Problem with scikit-eLCS"
   ]
  },
  {
   "cell_type": "code",
   "execution_count": 5,
   "metadata": {},
   "outputs": [],
   "source": [
    "# avgScikit = np.array([0,0,0,0,0,0,0])\n",
    "# for seed in randomSeeds:\n",
    "#     avgScikit = np.add(avgScikit,runScikiteLCS('Datasets/Multiplexer11.csv','class',5000,seed))\n",
    "# avgScikit /= 5\n",
    "\n",
    "# print(\"Average Training Accuracy: \"+str(avgScikit[0]))\n",
    "# print(\"Average Deletion Time: \"+str(avgScikit[1]))\n",
    "# print(\"Average Evaluation Time: \"+str(avgScikit[2]))\n",
    "# print(\"Average Matching Time: \"+str(avgScikit[3]))\n",
    "# print(\"Average Selection Time: \"+str(avgScikit[4]))\n",
    "# print(\"Average Subsumption Time: \"+str(avgScikit[5]))\n",
    "# print(\"Average Total Training Time: \"+str(avgScikit[6]))"
   ]
  },
  {
   "cell_type": "markdown",
   "metadata": {},
   "source": [
    "### 20-bit Multiplexer Problem with Original eLCS"
   ]
  },
  {
   "cell_type": "code",
   "execution_count": 6,
   "metadata": {},
   "outputs": [],
   "source": [
    "# avgOriginal = np.array([0,0,0,0,0,0,0])\n",
    "# for seed in randomSeeds:\n",
    "#     avgOriginal = np.add(avgOriginal,runOriginaleLCS('Datasets/Multiplexer20.csv','class','10000',seed))\n",
    "# avgOriginal /= 5\n",
    "\n",
    "# print(\"Average Training Accuracy: \"+str(avgOriginal[0]))\n",
    "# print(\"Average Deletion Time: \"+str(avgOriginal[1]))\n",
    "# print(\"Average Evaluation Time: \"+str(avgOriginal[2]))\n",
    "# print(\"Average Matching Time: \"+str(avgOriginal[3]))\n",
    "# print(\"Average Selection Time: \"+str(avgOriginal[4]))\n",
    "# print(\"Average Subsumption Time: \"+str(avgOriginal[5]))\n",
    "# print(\"Average Total Training Time: \"+str(avgOriginal[6]))"
   ]
  },
  {
   "cell_type": "markdown",
   "metadata": {},
   "source": [
    "### 20-bit Multiplexer Problem with scikit-eLCS"
   ]
  },
  {
   "cell_type": "code",
   "execution_count": 7,
   "metadata": {},
   "outputs": [],
   "source": [
    "# avgScikit = np.array([0,0,0,0,0,0,0])\n",
    "# for seed in randomSeeds:\n",
    "#     avgScikit = np.add(avgScikit,runScikiteLCS('Datasets/Multiplexer20.csv','class',10000,seed))\n",
    "# avgScikit /= 5\n",
    "\n",
    "# print(\"Average Training Accuracy: \"+str(avgScikit[0]))\n",
    "# print(\"Average Deletion Time: \"+str(avgScikit[1]))\n",
    "# print(\"Average Evaluation Time: \"+str(avgScikit[2]))\n",
    "# print(\"Average Matching Time: \"+str(avgScikit[3]))\n",
    "# print(\"Average Selection Time: \"+str(avgScikit[4]))\n",
    "# print(\"Average Subsumption Time: \"+str(avgScikit[5]))\n",
    "# print(\"Average Total Training Time: \"+str(avgScikit[6]))"
   ]
  },
  {
   "cell_type": "markdown",
   "metadata": {},
   "source": [
    "## Part 2: Comparing Testing Accuracy\n",
    "We will conduct a 3-fold CV 5 times (for 5 random seeds) for the 3 Multiplexer Problems above\n",
    "\n",
    "### 6-bit Multiplexer Problem with Original eLCS"
   ]
  },
  {
   "cell_type": "code",
   "execution_count": 8,
   "metadata": {},
   "outputs": [
    {
     "name": "stdout",
     "output_type": "stream",
     "text": [
      "Average Testing Accuracy: 0.9242424242424242\n"
     ]
    }
   ],
   "source": [
    "avgOriginal = 0\n",
    "for seed in randomSeeds:\n",
    "    avgOriginal += runOriginaleLCS('Datasets/Multiplexer6.csv','class','5000',seed,cv=3)\n",
    "avgOriginal /= 5\n",
    "\n",
    "print(\"Average Testing Accuracy: \"+str(avgOriginal))"
   ]
  },
  {
   "cell_type": "markdown",
   "metadata": {},
   "source": [
    "### 6-bit Multiplexer Problem with scikit-eLCS"
   ]
  },
  {
   "cell_type": "code",
   "execution_count": 9,
   "metadata": {},
   "outputs": [
    {
     "name": "stdout",
     "output_type": "stream",
     "text": [
      "Average Testing Accuracy: 0.8242424242424242\n"
     ]
    }
   ],
   "source": [
    "avgScikit = 0\n",
    "for seed in randomSeeds:\n",
    "    avgScikit += runScikiteLCS('Datasets/Multiplexer6.csv','class',5000,seed,cv=3)\n",
    "avgScikit /= 5\n",
    "\n",
    "print(\"Average Testing Accuracy: \"+str(avgScikit))"
   ]
  },
  {
   "cell_type": "markdown",
   "metadata": {},
   "source": [
    "### 11-bit Multiplexer Problem with Original eLCS"
   ]
  },
  {
   "cell_type": "code",
   "execution_count": 10,
   "metadata": {},
   "outputs": [
    {
     "name": "stdout",
     "output_type": "stream",
     "text": [
      "Average Testing Accuracy: 0.9906295754026354\n"
     ]
    }
   ],
   "source": [
    "avgOriginal = 0\n",
    "for seed in randomSeeds:\n",
    "    avgOriginal += runOriginaleLCS('Datasets/Multiplexer11.csv','class','5000',seed,cv=3)\n",
    "avgOriginal /= 5\n",
    "\n",
    "print(\"Average Testing Accuracy: \"+str(avgOriginal))"
   ]
  },
  {
   "cell_type": "markdown",
   "metadata": {},
   "source": [
    "### 11-bit Multiplexer Problem with scikit-eLCS"
   ]
  },
  {
   "cell_type": "code",
   "execution_count": 11,
   "metadata": {},
   "outputs": [
    {
     "name": "stdout",
     "output_type": "stream",
     "text": [
      "Average Testing Accuracy: 0.982326090560386\n"
     ]
    }
   ],
   "source": [
    "avgScikit = 0\n",
    "for seed in randomSeeds:\n",
    "    avgScikit += runScikiteLCS('Datasets/Multiplexer11.csv','class',5000,seed,cv=3)\n",
    "avgScikit /= 5\n",
    "\n",
    "print(\"Average Testing Accuracy: \"+str(avgScikit))"
   ]
  },
  {
   "cell_type": "markdown",
   "metadata": {},
   "source": [
    "### 20-bit Multiplexer Problem with Original eLCS"
   ]
  },
  {
   "cell_type": "code",
   "execution_count": 12,
   "metadata": {},
   "outputs": [
    {
     "name": "stdout",
     "output_type": "stream",
     "text": [
      "Average Testing Accuracy: 0.8267866066966516\n"
     ]
    }
   ],
   "source": [
    "avgOriginal = 0\n",
    "for seed in randomSeeds:\n",
    "    avgOriginal += runOriginaleLCS('Datasets/Multiplexer20.csv','class','10000',seed,cv=3)\n",
    "avgOriginal /= 5\n",
    "\n",
    "print(\"Average Testing Accuracy: \"+str(avgOriginal))"
   ]
  },
  {
   "cell_type": "markdown",
   "metadata": {},
   "source": [
    "### 20-bit Multiplexer Problem with scikit-eLCS"
   ]
  },
  {
   "cell_type": "code",
   "execution_count": 13,
   "metadata": {},
   "outputs": [
    {
     "name": "stdout",
     "output_type": "stream",
     "text": [
      "Average Testing Accuracy: 0.7678457448116813\n"
     ]
    }
   ],
   "source": [
    "avgScikit = 0\n",
    "for seed in randomSeeds:\n",
    "    avgScikit += runScikiteLCS('Datasets/Multiplexer20.csv','class',10000,seed,cv=3)\n",
    "avgScikit /= 5\n",
    "\n",
    "print(\"Average Testing Accuracy: \"+str(avgScikit))"
   ]
  }
 ],
 "metadata": {
  "kernelspec": {
   "display_name": "Python 3",
   "language": "python",
   "name": "python3"
  },
  "language_info": {
   "codemirror_mode": {
    "name": "ipython",
    "version": 3
   },
   "file_extension": ".py",
   "mimetype": "text/x-python",
   "name": "python",
   "nbconvert_exporter": "python",
   "pygments_lexer": "ipython3",
   "version": "3.7.7"
  }
 },
 "nbformat": 4,
 "nbformat_minor": 4
}
